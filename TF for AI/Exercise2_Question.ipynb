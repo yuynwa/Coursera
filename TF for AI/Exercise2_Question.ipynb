{
  "nbformat": 4,
  "nbformat_minor": 0,
  "metadata": {
    "colab": {
      "name": "Exercise2-Question.ipynb",
      "version": "0.3.2",
      "provenance": [],
      "collapsed_sections": []
    },
    "kernelspec": {
      "name": "python3",
      "display_name": "Python 3"
    }
  },
  "cells": [
    {
      "metadata": {
        "id": "tOoyQ70H00_s",
        "colab_type": "text"
      },
      "cell_type": "markdown",
      "source": [
        "## Exercise 2\n",
        "In the course you learned how to do classification using Fashion MNIST, a data set containing items of clothing. There's another, similar dataset called MNIST which has items of handwriting -- the digits 0 through 9.\n",
        "\n",
        "Write an MNIST classifier that trains to 99% accuracy or above, and does it without a fixed number of epochs -- i.e. you should stop training once you reach that level of accuracy.\n",
        "\n",
        "Some notes:\n",
        "1. It should succeed in less than 10 epochs, so it is okay to change epochs to 10, but nothing larger\n",
        "2. When it reaches 99% or greater it should print out the string \"Reached 99% accuracy so cancelling training!\"\n",
        "3. If you add any additional variables, make sure you use the same names as the ones used in the class\n",
        "\n",
        "I've started the code for you below -- how would you finish it? "
      ]
    },
    {
      "metadata": {
        "id": "9rvXQGAA0ssC",
        "colab_type": "code",
        "colab": {
          "base_uri": "https://localhost:8080/",
          "height": 340
        },
        "outputId": "cece3e21-93b1-4e98-a2ae-a39a9641f772"
      },
      "cell_type": "code",
      "source": [
        "\n",
        "import tensorflow as tf\n",
        "\n",
        "class MyCallback(tf.keras.callbacks.Callback):\n",
        "  \n",
        "  def on_epoch_end(self, epoch, logs={}):\n",
        "    if logs.get('acc') > 0.990:\n",
        "      print(\"\\nReached 99% accuracy so cancelling training!\\n\")\n",
        "      self.model.stop_training = True\n",
        "\n",
        "\n",
        "\n",
        "mnist = tf.keras.datasets.mnist\n",
        "\n",
        "\n",
        "(x_train, y_train),(x_test, y_test) = mnist.load_data()\n",
        "\n",
        "x_train, x_test = x_train / 255.0, x_test / 255.0\n",
        "\n",
        "\n",
        "model = tf.keras.models.Sequential([\n",
        "    tf.keras.layers.Flatten(),\n",
        "    tf.keras.layers.Dense(units=512, activation=tf.nn.relu),\n",
        "    tf.keras.layers.Dense(units=64, activation=tf.nn.relu),\n",
        "    tf.keras.layers.Dense(units=10, activation=tf.nn.softmax),\n",
        "])\n",
        "\n",
        "model.compile(optimizer='adam',\n",
        "              loss='sparse_categorical_crossentropy',\n",
        "              metrics=['accuracy'])\n",
        "\n",
        "\n",
        "callbacks = [MyCallback()]\n",
        "model.fit(\n",
        "    x_train,\n",
        "    y_train,\n",
        "    epochs=10,\n",
        "    callbacks=callbacks,\n",
        ")\n",
        "\n",
        "model.evaluate(\n",
        "    x_test,\n",
        "    y_test,\n",
        ")\n",
        "\n",
        "classifications = model.predict(x_test)\n",
        "print(classifications[123])\n",
        "print(y_test[123])\n"
      ],
      "execution_count": 8,
      "outputs": [
        {
          "output_type": "stream",
          "text": [
            "Epoch 1/10\n",
            "60000/60000 [==============================] - 14s 241us/sample - loss: 0.1972 - acc: 0.9413\n",
            "Epoch 2/10\n",
            "60000/60000 [==============================] - 14s 235us/sample - loss: 0.0818 - acc: 0.9746\n",
            "Epoch 3/10\n",
            "60000/60000 [==============================] - 14s 238us/sample - loss: 0.0546 - acc: 0.9832\n",
            "Epoch 4/10\n",
            "60000/60000 [==============================] - 15s 247us/sample - loss: 0.0400 - acc: 0.9875\n",
            "Epoch 5/10\n",
            "60000/60000 [==============================] - 15s 245us/sample - loss: 0.0325 - acc: 0.9899\n",
            "Epoch 6/10\n",
            "59904/60000 [============================>.] - ETA: 0s - loss: 0.0259 - acc: 0.9913\n",
            "Reached 99% accuracy so cancelling training!\n",
            "\n",
            "60000/60000 [==============================] - 15s 245us/sample - loss: 0.0259 - acc: 0.9913\n",
            "10000/10000 [==============================] - 1s 64us/sample - loss: 0.0803 - acc: 0.9807\n",
            "[2.1842572e-09 3.8064742e-09 3.6557799e-09 6.1988845e-11 3.2456177e-10\n",
            " 2.1665647e-07 9.9999976e-01 3.2596259e-10 1.2590592e-09 1.9050875e-10]\n",
            "6\n"
          ],
          "name": "stdout"
        }
      ]
    }
  ]
}