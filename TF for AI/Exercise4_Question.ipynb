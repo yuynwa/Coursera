{
  "nbformat": 4,
  "nbformat_minor": 0,
  "metadata": {
    "colab": {
      "name": "Exercise4-Question.ipynb",
      "version": "0.3.2",
      "provenance": []
    },
    "kernelspec": {
      "name": "python3",
      "display_name": "Python 3"
    }
  },
  "cells": [
    {
      "cell_type": "markdown",
      "metadata": {
        "id": "UncprnB0ymAE",
        "colab_type": "text"
      },
      "source": [
        "Below is code with a link to a happy or sad dataset which contains 80 images, 40 happy and 40 sad. \n",
        "Create a convolutional neural network that trains to 100% accuracy on these images,  which cancels training upon hitting training accuracy of >.999\n",
        "\n",
        "Hint -- it will work best with 3 convolutional layers."
      ]
    },
    {
      "cell_type": "code",
      "metadata": {
        "id": "7Vti6p3PxmpS",
        "colab_type": "code",
        "colab": {
          "base_uri": "https://localhost:8080/",
          "height": 204
        },
        "outputId": "3b77f804-1750-48fe-c1ee-995db9163a21"
      },
      "source": [
        "import tensorflow as tf\n",
        "import os\n",
        "import zipfile\n",
        "\n",
        "\n",
        "DESIRED_ACCURACY = 0.999\n",
        "\n",
        "!wget --no-check-certificate \\\n",
        "    \"https://storage.googleapis.com/laurencemoroney-blog.appspot.com/happy-or-sad.zip\" \\\n",
        "    -O \"/tmp/happy-or-sad.zip\"\n",
        "\n",
        "zip_ref = zipfile.ZipFile(\"/tmp/happy-or-sad.zip\", 'r')\n",
        "zip_ref.extractall(\"/tmp/h-or-s\")\n",
        "zip_ref.close()\n",
        "\n",
        "class myCallback(tf.keras.callbacks.Callback):\n",
        "    def on_epoch_end(self, epoch, logs={}):\n",
        "      \n",
        "        print(logs)\n",
        "        if logs['acc'] > 0.999:\n",
        "            print('\\nReached 99.9% accuracy, so canceling training!\\n')\n",
        "            self.model.stop_training = True\n",
        "            \n",
        "\n",
        "callbacks = myCallback()"
      ],
      "execution_count": 27,
      "outputs": [
        {
          "output_type": "stream",
          "text": [
            "--2019-05-08 15:47:24--  https://storage.googleapis.com/laurencemoroney-blog.appspot.com/happy-or-sad.zip\n",
            "Resolving storage.googleapis.com (storage.googleapis.com)... 74.125.141.128, 2607:f8b0:400c:c06::80\n",
            "Connecting to storage.googleapis.com (storage.googleapis.com)|74.125.141.128|:443... connected.\n",
            "HTTP request sent, awaiting response... 200 OK\n",
            "Length: 2670333 (2.5M) [application/zip]\n",
            "Saving to: ‘/tmp/happy-or-sad.zip’\n",
            "\n",
            "\r/tmp/happy-or-sad.z   0%[                    ]       0  --.-KB/s               \r/tmp/happy-or-sad.z 100%[===================>]   2.55M  --.-KB/s    in 0.02s   \n",
            "\n",
            "2019-05-08 15:47:24 (132 MB/s) - ‘/tmp/happy-or-sad.zip’ saved [2670333/2670333]\n",
            "\n"
          ],
          "name": "stdout"
        }
      ]
    },
    {
      "cell_type": "code",
      "metadata": {
        "id": "6DLGbXXI1j_V",
        "colab_type": "code",
        "colab": {}
      },
      "source": [
        "# This Code Block should Define and Compile the Model\n",
        "model = tf.keras.models.Sequential([\n",
        "    tf.keras.layers.Conv2D(32, (3,3), activation='relu', input_shape = (150, 150, 3)),\n",
        "    tf.keras.layers.MaxPooling2D((2,2)),\n",
        "    \n",
        "    tf.keras.layers.Conv2D(64, (3,3), activation='relu'),\n",
        "    tf.keras.layers.MaxPooling2D((2,2)),\n",
        "    \n",
        "    tf.keras.layers.Conv2D(64, (3,3), activation='relu'),\n",
        "    tf.keras.layers.MaxPooling2D((2,2)),\n",
        "    \n",
        "    tf.keras.layers.Conv2D(64, (3,3), activation='relu'),\n",
        "    tf.keras.layers.MaxPooling2D((2,2)),\n",
        "    \n",
        "    tf.keras.layers.Conv2D(64, (3,3), activation='relu'),\n",
        "    tf.keras.layers.MaxPooling2D(2,2),\n",
        "    \n",
        "    tf.keras.layers.Flatten(),\n",
        "    tf.keras.layers.Dense(32, activation='relu'),\n",
        "    tf.keras.layers.Dense(1, activation='sigmoid'),\n",
        "])\n",
        "\n",
        "from tensorflow.keras.optimizers import RMSprop\n",
        "\n",
        "model.compile(\n",
        "    loss='binary_crossentropy',\n",
        "    metrics=['accuracy'],\n",
        "    optimizer=RMSprop(lr=0.001),\n",
        ")"
      ],
      "execution_count": 0,
      "outputs": []
    },
    {
      "cell_type": "code",
      "metadata": {
        "id": "4Ap9fUJE1vVu",
        "colab_type": "code",
        "colab": {
          "base_uri": "https://localhost:8080/",
          "height": 34
        },
        "outputId": "d5563a53-4a48-452b-af5d-ae02187a8b22"
      },
      "source": [
        "# This code block should create an instance of an ImageDataGenerator called train_datagen \n",
        "# And a train_generator by calling train_datagen.flow_from_directory\n",
        "\n",
        "from tensorflow.keras.preprocessing.image import ImageDataGenerator\n",
        "\n",
        "train_datagen = ImageDataGenerator(rescale=1/255.0)\n",
        "\n",
        "train_generator = train_datagen.flow_from_directory(\n",
        "        \n",
        "    '/tmp/h-or-s',\n",
        "    batch_size=20,\n",
        "    target_size =(150,150),\n",
        "    class_mode='binary',\n",
        ")\n",
        "\n",
        "# Expected output: 'Found 80 images belonging to 2 classes'"
      ],
      "execution_count": 40,
      "outputs": [
        {
          "output_type": "stream",
          "text": [
            "Found 80 images belonging to 2 classes.\n"
          ],
          "name": "stdout"
        }
      ]
    },
    {
      "cell_type": "code",
      "metadata": {
        "id": "48dLm13U1-Le",
        "colab_type": "code",
        "colab": {
          "base_uri": "https://localhost:8080/",
          "height": 833
        },
        "outputId": "e385acfb-e03a-4e85-e4fe-cbed1785b01d"
      },
      "source": [
        "# This code block should call model.fit_generator and train for\n",
        "# a number of epochs. \n",
        "history = model.fit_generator(\n",
        "    generator=train_generator,\n",
        "    steps_per_epoch=4,\n",
        "    epochs=15,\n",
        "    verbose = 1,\n",
        "    callbacks=[callbacks],\n",
        ")\n",
        "    \n",
        "# Expected output: \"Reached 99.9% accuracy so cancelling training!\"\""
      ],
      "execution_count": 41,
      "outputs": [
        {
          "output_type": "stream",
          "text": [
            "Epoch 1/15\n",
            "3/4 [=====================>........] - ETA: 1s - loss: 0.6790 - acc: 0.5167{'loss': 0.6810561567544937, 'acc': 0.525}\n",
            "4/4 [==============================] - 4s 1s/step - loss: 0.6811 - acc: 0.5250\n",
            "Epoch 2/15\n",
            "3/4 [=====================>........] - ETA: 0s - loss: 0.6467 - acc: 0.4833{'loss': 0.6280087232589722, 'acc': 0.525}\n",
            "4/4 [==============================] - 4s 1s/step - loss: 0.6280 - acc: 0.5250\n",
            "Epoch 3/15\n",
            "3/4 [=====================>........] - ETA: 1s - loss: 0.4733 - acc: 0.9333{'loss': 0.42386774718761444, 'acc': 0.9125}\n",
            "4/4 [==============================] - 4s 1s/step - loss: 0.4239 - acc: 0.9125\n",
            "Epoch 4/15\n",
            "3/4 [=====================>........] - ETA: 1s - loss: 0.2599 - acc: 0.9333{'loss': 0.24272450432181358, 'acc': 0.9375}\n",
            "4/4 [==============================] - 4s 1s/step - loss: 0.2427 - acc: 0.9375\n",
            "Epoch 5/15\n",
            "3/4 [=====================>........] - ETA: 0s - loss: 0.2934 - acc: 0.8333{'loss': 0.24792679026722908, 'acc': 0.8625}\n",
            "4/4 [==============================] - 4s 1s/step - loss: 0.2479 - acc: 0.8625\n",
            "Epoch 6/15\n",
            "3/4 [=====================>........] - ETA: 0s - loss: 0.1988 - acc: 0.9667{'loss': 0.24088891223073006, 'acc': 0.9375}\n",
            "4/4 [==============================] - 4s 1s/step - loss: 0.2409 - acc: 0.9375\n",
            "Epoch 7/15\n",
            "3/4 [=====================>........] - ETA: 0s - loss: 0.2807 - acc: 0.8500{'loss': 0.24290072545409203, 'acc': 0.875}\n",
            "4/4 [==============================] - 4s 1s/step - loss: 0.2429 - acc: 0.8750\n",
            "Epoch 8/15\n",
            "3/4 [=====================>........] - ETA: 0s - loss: 0.1469 - acc: 0.9333{'loss': 0.13491305522620678, 'acc': 0.95}\n",
            "4/4 [==============================] - 4s 1s/step - loss: 0.1349 - acc: 0.9500\n",
            "Epoch 9/15\n",
            "3/4 [=====================>........] - ETA: 0s - loss: 0.1764 - acc: 0.8833{'loss': 0.14792804792523384, 'acc': 0.9125}\n",
            "4/4 [==============================] - 4s 1s/step - loss: 0.1479 - acc: 0.9125\n",
            "Epoch 10/15\n",
            "3/4 [=====================>........] - ETA: 1s - loss: 0.0869 - acc: 0.9667{'loss': 0.1264438908547163, 'acc': 0.9375}\n",
            "4/4 [==============================] - 4s 1s/step - loss: 0.1264 - acc: 0.9375\n",
            "Epoch 11/15\n",
            "3/4 [=====================>........] - ETA: 1s - loss: 0.2410 - acc: 0.9333{'loss': 0.2173292115330696, 'acc': 0.925}\n",
            "4/4 [==============================] - 4s 1s/step - loss: 0.2173 - acc: 0.9250\n",
            "Epoch 12/15\n",
            "3/4 [=====================>........] - ETA: 1s - loss: 0.0415 - acc: 1.0000{'loss': 0.08514044596813619, 'acc': 0.9625}\n",
            "4/4 [==============================] - 4s 1s/step - loss: 0.0851 - acc: 0.9625\n",
            "Epoch 13/15\n",
            "3/4 [=====================>........] - ETA: 1s - loss: 0.1334 - acc: 0.8833{'loss': 0.10790159460157156, 'acc': 0.9125}\n",
            "4/4 [==============================] - 4s 1s/step - loss: 0.1079 - acc: 0.9125\n",
            "Epoch 14/15\n",
            "3/4 [=====================>........] - ETA: 1s - loss: 0.0375 - acc: 0.9833{'loss': 0.04085124214179814, 'acc': 0.9875}\n",
            "4/4 [==============================] - 4s 1s/step - loss: 0.0409 - acc: 0.9875\n",
            "Epoch 15/15\n",
            "3/4 [=====================>........] - ETA: 1s - loss: 0.0136 - acc: 1.0000{'loss': 0.027096662553958595, 'acc': 1.0}\n",
            "\n",
            "Reached 99.9% accuracy, so canceling training!\n",
            "\n",
            "4/4 [==============================] - 4s 1s/step - loss: 0.0271 - acc: 1.0000\n"
          ],
          "name": "stdout"
        }
      ]
    },
    {
      "cell_type": "code",
      "metadata": {
        "id": "tdVq7v0OIQby",
        "colab_type": "code",
        "colab": {}
      },
      "source": [
        ""
      ],
      "execution_count": 0,
      "outputs": []
    }
  ]
}