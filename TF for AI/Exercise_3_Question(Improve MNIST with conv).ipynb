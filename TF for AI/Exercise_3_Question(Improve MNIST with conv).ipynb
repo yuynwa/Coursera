{
  "nbformat": 4,
  "nbformat_minor": 0,
  "metadata": {
    "colab": {
      "name": "Exercise 3 - Question.ipynb",
      "version": "0.3.2",
      "provenance": [],
      "collapsed_sections": []
    },
    "kernelspec": {
      "name": "python3",
      "display_name": "Python 3"
    }
  },
  "cells": [
    {
      "metadata": {
        "id": "iQjHqsmTAVLU",
        "colab_type": "text"
      },
      "cell_type": "markdown",
      "source": [
        "## Exercise 3\n",
        "In the videos you looked at how you would improve Fashion MNIST using Convolutions. For your exercise see if you can improve MNIST to 99.8% accuracy or more using only a single convolutional layer and a single MaxPooling 2D. You should stop training once the accuracy goes above this amount. It should happen in less than 20 epochs, so it's ok to hard code the number of epochs for training, but your training must end once it hits the above metric. If it doesn't, then you'll need to redesign your layers.\n",
        "\n",
        "I've started the code for you -- you need to finish it!\n",
        "\n",
        "When 99.8% accuracy has been hit, you should print out the string \"Reached 99.8% accuracy so cancelling training!\"\n"
      ]
    },
    {
      "metadata": {
        "id": "mQA3wENUKV1d",
        "colab_type": "code",
        "colab": {}
      },
      "cell_type": "code",
      "source": [
        ""
      ],
      "execution_count": 0,
      "outputs": []
    },
    {
      "metadata": {
        "id": "sfQRyaJWAIdg",
        "colab_type": "code",
        "colab": {
          "base_uri": "https://localhost:8080/",
          "height": 1020
        },
        "outputId": "e997a562-1550-4392-fda1-b994e8f20717"
      },
      "cell_type": "code",
      "source": [
        "import tensorflow as tf\n",
        "\n",
        "# YOUR CODE STARTS HERE\n",
        "class MyCallback(tf.keras.callbacks.Callback):\n",
        "    def on_epoch_end(self, epoch, logs={}):\n",
        "        \n",
        "        print(epoch, logs)\n",
        "        \n",
        "        if logs.get('acc') > 0.998:\n",
        "            self.model.stop_training = True\n",
        "            print(\"Reached 99.8% accuracy so cancelling training!\")\n",
        "\n",
        "# YOUR CODE ENDS HERE\n",
        "\n",
        "mnist = tf.keras.datasets.mnist\n",
        "(training_images, training_labels), (test_images, test_labels) = mnist.load_data()\n",
        "\n",
        "# YOUR CODE STARTS HERE\n",
        "training_images, test_images = training_images / 255.0, test_images / 255.0\n",
        "training_images = training_images.reshape(60000, 28, 28, 1)\n",
        "test_images = test_images.reshape(10000, 28, 28, 1)\n",
        "\n",
        "print(training_images.shape)\n",
        "\n",
        "# YOUR CODE ENDS HERE\n",
        "\n",
        "model = tf.keras.models.Sequential([\n",
        "    # YOUR CODE STARTS HERE\n",
        "    tf.keras.layers.Conv2D(32, (3,3), activation='relu', input_shape=(28,28,1)),\n",
        "    tf.keras.layers.MaxPooling2D(2,2),\n",
        "    tf.keras.layers.Flatten(),\n",
        "    tf.keras.layers.Dense(126, activation='relu'),\n",
        "    tf.keras.layers.Dense(10, activation='softmax'),\n",
        "    # YOUR CODE ENDS HERE\n",
        "])\n",
        "\n",
        "# YOUR CODE STARTS HERE\n",
        "model.compile(\n",
        "    optimizer = tf.train.AdamOptimizer(),\n",
        "    metrics = ['accuracy'],\n",
        "    loss='sparse_categorical_crossentropy',\n",
        ")\n",
        "\n",
        "callbacks = [MyCallback()]\n",
        "model.fit(\n",
        "    x = training_images,\n",
        "    y = training_labels,\n",
        "    epochs=20,\n",
        "    callbacks=callbacks\n",
        ")\n",
        "\n",
        "model.evaluate(\n",
        "    x = test_images,\n",
        "    y = test_labels,\n",
        ")\n",
        "\n",
        "classifications = model.predict(test_images)\n",
        "print(classifications[432])\n",
        "print(test_labels[432])\n",
        "# YOUR CODE ENDS HERE\n",
        "\n"
      ],
      "execution_count": 12,
      "outputs": [
        {
          "output_type": "stream",
          "text": [
            "(60000, 28, 28, 1)\n",
            "Epoch 1/20\n",
            "59968/60000 [============================>.] - ETA: 0s - loss: 0.1505 - acc: 0.95510 {'loss': 0.15041063682946065, 'acc': 0.9550833}\n",
            "60000/60000 [==============================] - 44s 733us/sample - loss: 0.1504 - acc: 0.9551\n",
            "Epoch 2/20\n",
            "59904/60000 [============================>.] - ETA: 0s - loss: 0.0524 - acc: 0.98361 {'loss': 0.052418376106768846, 'acc': 0.9836}\n",
            "60000/60000 [==============================] - 44s 736us/sample - loss: 0.0524 - acc: 0.9836\n",
            "Epoch 3/20\n",
            "59968/60000 [============================>.] - ETA: 0s - loss: 0.0338 - acc: 0.98942 {'loss': 0.03378397941125246, 'acc': 0.9894}\n",
            "60000/60000 [==============================] - 44s 728us/sample - loss: 0.0338 - acc: 0.9894\n",
            "Epoch 4/20\n",
            "59968/60000 [============================>.] - ETA: 0s - loss: 0.0229 - acc: 0.99293 {'loss': 0.02286953876625339, 'acc': 0.9929}\n",
            "60000/60000 [==============================] - 44s 732us/sample - loss: 0.0229 - acc: 0.9929\n",
            "Epoch 5/20\n",
            "59904/60000 [============================>.] - ETA: 0s - loss: 0.0153 - acc: 0.99504 {'loss': 0.015290886601261445, 'acc': 0.9949833}\n",
            "60000/60000 [==============================] - 45s 747us/sample - loss: 0.0153 - acc: 0.9950\n",
            "Epoch 6/20\n",
            "59936/60000 [============================>.] - ETA: 0s - loss: 0.0115 - acc: 0.99625 {'loss': 0.011496122115283895, 'acc': 0.99623334}\n",
            "60000/60000 [==============================] - 44s 726us/sample - loss: 0.0115 - acc: 0.9962\n",
            "Epoch 7/20\n",
            "59968/60000 [============================>.] - ETA: 0s - loss: 0.0089 - acc: 0.99716 {'loss': 0.008928595912162563, 'acc': 0.99715}\n",
            "60000/60000 [==============================] - 44s 730us/sample - loss: 0.0089 - acc: 0.9972\n",
            "Epoch 8/20\n",
            "59968/60000 [============================>.] - ETA: 0s - loss: 0.0062 - acc: 0.99817 {'loss': 0.006211363626411184, 'acc': 0.99815}\n",
            "Reached 99.8% accuracy so cancelling training!\n",
            "60000/60000 [==============================] - 45s 744us/sample - loss: 0.0062 - acc: 0.9981\n",
            "10000/10000 [==============================] - 3s 282us/sample - loss: 0.0520 - acc: 0.9867\n",
            "[1.2781981e-17 3.1643637e-04 3.1938583e-07 2.9955747e-09 9.9968278e-01\n",
            " 4.9507088e-07 1.0123794e-08 1.8239913e-09 2.6338891e-11 5.2351801e-10]\n",
            "4\n"
          ],
          "name": "stdout"
        }
      ]
    }
  ]
}