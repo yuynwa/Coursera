{
  "nbformat": 4,
  "nbformat_minor": 0,
  "metadata": {
    "colab": {
      "name": "NLP Course - Week 3 Exercise Question.ipynb",
      "version": "0.3.2",
      "provenance": []
    },
    "kernelspec": {
      "name": "python3",
      "display_name": "Python 3"
    },
    "accelerator": "GPU"
  },
  "cells": [
    {
      "cell_type": "code",
      "metadata": {
        "id": "hmA6EzkQJ5jt",
        "colab_type": "code",
        "colab": {}
      },
      "source": [
        "import json\n",
        "import tensorflow as tf\n",
        "import csv\n",
        "import random\n",
        "import numpy as np\n",
        "\n",
        "from tensorflow.keras.preprocessing.text import Tokenizer\n",
        "from tensorflow.keras.preprocessing.sequence import pad_sequences\n",
        "from tensorflow.keras.utils import to_categorical\n",
        "from tensorflow.keras import regularizers\n",
        "\n",
        "\n",
        "embedding_dim = 100\n",
        "max_length = 16\n",
        "trunc_type='post'\n",
        "padding_type='post'\n",
        "oov_tok = \"<OOV>\"\n",
        "training_size=160000\n",
        "test_portion=.1\n",
        "\n",
        "\n"
      ],
      "execution_count": 0,
      "outputs": []
    },
    {
      "cell_type": "code",
      "metadata": {
        "id": "bM0l_dORKqE0",
        "colab_type": "code",
        "outputId": "d4929ef1-5310-4ab5-fa52-5367bb4beaab",
        "colab": {
          "base_uri": "https://localhost:8080/",
          "height": 204
        }
      },
      "source": [
        "\n",
        "# Note that I cleaned the Stanford dataset to remove LATIN1 encoding to make it easier for Python CSV reader\n",
        "# You can do that yourself with:\n",
        "# iconv -f LATIN1 -t UTF8 training.1600000.processed.noemoticon.csv -o training_cleaned.csv\n",
        "# I then hosted it on my site to make it easier to use in this notebook\n",
        "\n",
        "!wget --no-check-certificate \\\n",
        "    https://storage.googleapis.com/laurencemoroney-blog.appspot.com/training_cleaned.csv \\\n",
        "    -O /tmp/training_cleaned.csv\n",
        "corpus = []\n",
        "num_sentences = 0\n",
        "\n",
        "with open(\"/tmp/training_cleaned.csv\") as csvfile:\n",
        "    reader = csv.reader(csvfile, delimiter=',')\n",
        "    for row in reader:\n",
        "      # Your Code here. Create list items where the first item is the text, found in row[5], and the second is the label. Note that the label is a '0' or a '4' in the text. When it's the former, make\n",
        "      # your label to be 0, otherwise 1. Keep a count of the number of sentences in num_sentences\n",
        "        list_item=[]\n",
        "        list_item.append(row[5])\n",
        "        \n",
        "        # YOUR CODE HERE\n",
        "        if row[0] == '0':\n",
        "            list_item.append(0)\n",
        "        else:\n",
        "            list_item.append(1)\n",
        "        num_sentences = num_sentences + 1\n",
        "        corpus.append(list_item)\n",
        "\n",
        "\n"
      ],
      "execution_count": 42,
      "outputs": [
        {
          "output_type": "stream",
          "text": [
            "--2019-09-14 05:04:09--  https://storage.googleapis.com/laurencemoroney-blog.appspot.com/training_cleaned.csv\n",
            "Resolving storage.googleapis.com (storage.googleapis.com)... 108.177.97.128, 2404:6800:4008:c01::80\n",
            "Connecting to storage.googleapis.com (storage.googleapis.com)|108.177.97.128|:443... connected.\n",
            "HTTP request sent, awaiting response... 200 OK\n",
            "Length: 238942690 (228M) [application/octet-stream]\n",
            "Saving to: ‘/tmp/training_cleaned.csv’\n",
            "\n",
            "/tmp/training_clean 100%[===================>] 227.87M   112MB/s    in 2.0s    \n",
            "\n",
            "2019-09-14 05:04:11 (112 MB/s) - ‘/tmp/training_cleaned.csv’ saved [238942690/238942690]\n",
            "\n"
          ],
          "name": "stdout"
        }
      ]
    },
    {
      "cell_type": "code",
      "metadata": {
        "id": "3kxblBUjEUX-",
        "colab_type": "code",
        "outputId": "ebadc5b6-64b2-4668-9617-200aa4503b46",
        "colab": {
          "base_uri": "https://localhost:8080/",
          "height": 68
        }
      },
      "source": [
        "print(num_sentences)\n",
        "print(len(corpus))\n",
        "print(corpus[1])\n",
        "\n",
        "# Expected Output:\n",
        "# 1600000\n",
        "# 1600000\n",
        "# [\"is upset that he can't update his Facebook by texting it... and might cry as a result  School today also. Blah!\", 0]"
      ],
      "execution_count": 43,
      "outputs": [
        {
          "output_type": "stream",
          "text": [
            "1600000\n",
            "1600000\n",
            "[\"is upset that he can't update his Facebook by texting it... and might cry as a result  School today also. Blah!\", 0]\n"
          ],
          "name": "stdout"
        }
      ]
    },
    {
      "cell_type": "code",
      "metadata": {
        "id": "ohOGz24lsNAD",
        "colab_type": "code",
        "colab": {}
      },
      "source": [
        "sentences=[]\n",
        "labels=[]\n",
        "random.shuffle(corpus)\n",
        "for x in range(training_size):\n",
        "    sentences.append(corpus[x][0])\n",
        "    labels.append(corpus[x][1])\n",
        "\n",
        "\n",
        "tokenizer = Tokenizer()\n",
        "tokenizer.fit_on_texts(sentences)\n",
        "\n",
        "word_index = tokenizer.word_index\n",
        "vocab_size=len(word_index)\n",
        "\n",
        "sequences = tokenizer.texts_to_sequences(sentences)\n",
        "padded = pad_sequences(sequences, maxlen=max_length, padding=padding_type, truncating=trunc_type)\n",
        "\n",
        "split = int(test_portion * training_size)\n",
        "\n",
        "test_sequences = padded[:split]\n",
        "training_sequences = padded[split:training_size]\n",
        "test_labels = labels[:split]\n",
        "training_labels = labels[split:training_size]"
      ],
      "execution_count": 0,
      "outputs": []
    },
    {
      "cell_type": "code",
      "metadata": {
        "id": "gIrtRem1En3N",
        "colab_type": "code",
        "outputId": "56b79b12-5701-4ec9-87a3-dcf445ca6258",
        "colab": {
          "base_uri": "https://localhost:8080/",
          "height": 51
        }
      },
      "source": [
        "print(vocab_size)\n",
        "print(word_index['i'])\n",
        "# Expected Output\n",
        "# 138858\n",
        "# 1"
      ],
      "execution_count": 45,
      "outputs": [
        {
          "output_type": "stream",
          "text": [
            "138360\n",
            "1\n"
          ],
          "name": "stdout"
        }
      ]
    },
    {
      "cell_type": "code",
      "metadata": {
        "id": "C1zdgJkusRh0",
        "colab_type": "code",
        "outputId": "c2f858cc-29a7-441f-f746-009b344520e6",
        "colab": {
          "base_uri": "https://localhost:8080/",
          "height": 204
        }
      },
      "source": [
        "# Note this is the 100 dimension version of GloVe from Stanford\n",
        "# I unzipped and hosted it on my site to make this notebook easier\n",
        "!wget --no-check-certificate \\\n",
        "    https://storage.googleapis.com/laurencemoroney-blog.appspot.com/glove.6B.100d.txt \\\n",
        "    -O /tmp/glove.6B.100d.txt\n",
        "embeddings_index = {};\n",
        "with open('/tmp/glove.6B.100d.txt') as f:\n",
        "    for line in f:\n",
        "        values = line.split();\n",
        "        word = values[0];\n",
        "        coefs = np.asarray(values[1:], dtype='float32');\n",
        "        embeddings_index[word] = coefs;\n",
        "\n",
        "embeddings_matrix = np.zeros((vocab_size+1, embedding_dim));\n",
        "for word, i in word_index.items():\n",
        "    embedding_vector = embeddings_index.get(word);\n",
        "    if embedding_vector is not None:\n",
        "        embeddings_matrix[i] = embedding_vector;"
      ],
      "execution_count": 46,
      "outputs": [
        {
          "output_type": "stream",
          "text": [
            "--2019-09-14 05:04:58--  https://storage.googleapis.com/laurencemoroney-blog.appspot.com/glove.6B.100d.txt\n",
            "Resolving storage.googleapis.com (storage.googleapis.com)... 74.125.23.128, 2404:6800:4008:c01::80\n",
            "Connecting to storage.googleapis.com (storage.googleapis.com)|74.125.23.128|:443... connected.\n",
            "HTTP request sent, awaiting response... 200 OK\n",
            "Length: 347116733 (331M) [text/plain]\n",
            "Saving to: ‘/tmp/glove.6B.100d.txt’\n",
            "\n",
            "/tmp/glove.6B.100d. 100%[===================>] 331.04M  86.1MB/s    in 4.1s    \n",
            "\n",
            "2019-09-14 05:05:03 (81.7 MB/s) - ‘/tmp/glove.6B.100d.txt’ saved [347116733/347116733]\n",
            "\n"
          ],
          "name": "stdout"
        }
      ]
    },
    {
      "cell_type": "code",
      "metadata": {
        "id": "71NLk_lpFLNt",
        "colab_type": "code",
        "outputId": "d83d2ac9-8a77-40f2-a51b-067a94b14459",
        "colab": {
          "base_uri": "https://localhost:8080/",
          "height": 34
        }
      },
      "source": [
        "print(len(embeddings_matrix))\n",
        "# Expected Output\n",
        "# 138859"
      ],
      "execution_count": 47,
      "outputs": [
        {
          "output_type": "stream",
          "text": [
            "138361\n"
          ],
          "name": "stdout"
        }
      ]
    },
    {
      "cell_type": "code",
      "metadata": {
        "colab_type": "code",
        "id": "iKKvbuEBOGFz",
        "colab": {
          "base_uri": "https://localhost:8080/",
          "height": 1000
        },
        "outputId": "87c841cb-bec9-4fec-fbae-67547fe3aeea"
      },
      "source": [
        "model = tf.keras.Sequential([\n",
        "    tf.keras.layers.Embedding(vocab_size+1, embedding_dim, input_length=max_length, weights=[embeddings_matrix], trainable=False),\n",
        "    tf.keras.layers.Dropout(0.2),\n",
        "    tf.keras.layers.Conv1D(64, 5, activation='relu'),\n",
        "    tf.keras.layers.MaxPooling1D(pool_size=4),\n",
        "    tf.keras.layers.LSTM(64),\n",
        "    tf.keras.layers.Dense(1, activation='sigmoid')\n",
        "])\n",
        "model.compile(\n",
        "    loss='binary_crossentropy',\n",
        "    optimizer='adam',\n",
        "    metrics=['accuracy'],\n",
        ")\n",
        "model.summary()\n",
        "\n",
        "num_epochs = 50\n",
        "history = model.fit(training_sequences, training_labels, epochs=num_epochs, validation_data=(test_sequences, test_labels), verbose=2)\n",
        "\n",
        "print(\"Training Complete\")\n"
      ],
      "execution_count": 53,
      "outputs": [
        {
          "output_type": "stream",
          "text": [
            "Model: \"sequential_5\"\n",
            "_________________________________________________________________\n",
            "Layer (type)                 Output Shape              Param #   \n",
            "=================================================================\n",
            "embedding_5 (Embedding)      (None, 16, 100)           13836100  \n",
            "_________________________________________________________________\n",
            "dropout_5 (Dropout)          (None, 16, 100)           0         \n",
            "_________________________________________________________________\n",
            "conv1d_5 (Conv1D)            (None, 12, 64)            32064     \n",
            "_________________________________________________________________\n",
            "max_pooling1d_5 (MaxPooling1 (None, 3, 64)             0         \n",
            "_________________________________________________________________\n",
            "lstm_5 (LSTM)                (None, 64)                33024     \n",
            "_________________________________________________________________\n",
            "dense_5 (Dense)              (None, 1)                 65        \n",
            "=================================================================\n",
            "Total params: 13,901,253\n",
            "Trainable params: 65,153\n",
            "Non-trainable params: 13,836,100\n",
            "_________________________________________________________________\n",
            "Train on 144000 samples, validate on 16000 samples\n",
            "Epoch 1/50\n",
            "144000/144000 - 57s - loss: 0.5672 - acc: 0.6996 - val_loss: 0.5330 - val_acc: 0.7258\n",
            "Epoch 2/50\n",
            "144000/144000 - 56s - loss: 0.5258 - acc: 0.7327 - val_loss: 0.5091 - val_acc: 0.7468\n",
            "Epoch 3/50\n",
            "144000/144000 - 56s - loss: 0.5085 - acc: 0.7451 - val_loss: 0.5047 - val_acc: 0.7460\n",
            "Epoch 4/50\n",
            "144000/144000 - 56s - loss: 0.4972 - acc: 0.7523 - val_loss: 0.5089 - val_acc: 0.7479\n",
            "Epoch 5/50\n",
            "144000/144000 - 56s - loss: 0.4884 - acc: 0.7593 - val_loss: 0.5025 - val_acc: 0.7504\n",
            "Epoch 6/50\n",
            "144000/144000 - 56s - loss: 0.4818 - acc: 0.7621 - val_loss: 0.4985 - val_acc: 0.7534\n",
            "Epoch 7/50\n",
            "144000/144000 - 56s - loss: 0.4762 - acc: 0.7672 - val_loss: 0.5078 - val_acc: 0.7459\n",
            "Epoch 8/50\n",
            "144000/144000 - 56s - loss: 0.4708 - acc: 0.7699 - val_loss: 0.4982 - val_acc: 0.7546\n",
            "Epoch 9/50\n",
            "144000/144000 - 56s - loss: 0.4672 - acc: 0.7720 - val_loss: 0.4969 - val_acc: 0.7551\n",
            "Epoch 10/50\n",
            "144000/144000 - 56s - loss: 0.4628 - acc: 0.7748 - val_loss: 0.5002 - val_acc: 0.7543\n",
            "Epoch 11/50\n",
            "144000/144000 - 56s - loss: 0.4604 - acc: 0.7762 - val_loss: 0.5019 - val_acc: 0.7566\n",
            "Epoch 12/50\n",
            "144000/144000 - 56s - loss: 0.4575 - acc: 0.7771 - val_loss: 0.5010 - val_acc: 0.7558\n",
            "Epoch 13/50\n",
            "144000/144000 - 56s - loss: 0.4545 - acc: 0.7791 - val_loss: 0.5020 - val_acc: 0.7574\n",
            "Epoch 14/50\n",
            "144000/144000 - 56s - loss: 0.4521 - acc: 0.7814 - val_loss: 0.5023 - val_acc: 0.7542\n",
            "Epoch 15/50\n",
            "144000/144000 - 56s - loss: 0.4505 - acc: 0.7815 - val_loss: 0.5078 - val_acc: 0.7493\n",
            "Epoch 16/50\n",
            "144000/144000 - 55s - loss: 0.4493 - acc: 0.7836 - val_loss: 0.5000 - val_acc: 0.7551\n",
            "Epoch 17/50\n",
            "144000/144000 - 55s - loss: 0.4463 - acc: 0.7840 - val_loss: 0.5050 - val_acc: 0.7574\n",
            "Epoch 18/50\n",
            "144000/144000 - 56s - loss: 0.4461 - acc: 0.7835 - val_loss: 0.5071 - val_acc: 0.7549\n",
            "Epoch 19/50\n",
            "144000/144000 - 56s - loss: 0.4439 - acc: 0.7857 - val_loss: 0.5079 - val_acc: 0.7542\n",
            "Epoch 20/50\n",
            "144000/144000 - 56s - loss: 0.4419 - acc: 0.7873 - val_loss: 0.5063 - val_acc: 0.7536\n",
            "Epoch 21/50\n",
            "144000/144000 - 55s - loss: 0.4405 - acc: 0.7889 - val_loss: 0.5113 - val_acc: 0.7504\n",
            "Epoch 22/50\n",
            "144000/144000 - 55s - loss: 0.4398 - acc: 0.7894 - val_loss: 0.5113 - val_acc: 0.7545\n",
            "Epoch 23/50\n",
            "144000/144000 - 56s - loss: 0.4392 - acc: 0.7900 - val_loss: 0.5085 - val_acc: 0.7514\n",
            "Epoch 24/50\n",
            "144000/144000 - 55s - loss: 0.4371 - acc: 0.7918 - val_loss: 0.5083 - val_acc: 0.7513\n",
            "Epoch 25/50\n",
            "144000/144000 - 55s - loss: 0.4365 - acc: 0.7910 - val_loss: 0.5084 - val_acc: 0.7504\n",
            "Epoch 26/50\n",
            "144000/144000 - 55s - loss: 0.4360 - acc: 0.7919 - val_loss: 0.5101 - val_acc: 0.7524\n",
            "Epoch 27/50\n",
            "144000/144000 - 55s - loss: 0.4358 - acc: 0.7916 - val_loss: 0.5094 - val_acc: 0.7570\n",
            "Epoch 28/50\n",
            "144000/144000 - 55s - loss: 0.4342 - acc: 0.7920 - val_loss: 0.5135 - val_acc: 0.7533\n",
            "Epoch 29/50\n",
            "144000/144000 - 56s - loss: 0.4350 - acc: 0.7916 - val_loss: 0.5116 - val_acc: 0.7515\n",
            "Epoch 30/50\n",
            "144000/144000 - 55s - loss: 0.4335 - acc: 0.7930 - val_loss: 0.5102 - val_acc: 0.7553\n",
            "Epoch 31/50\n",
            "144000/144000 - 56s - loss: 0.4334 - acc: 0.7940 - val_loss: 0.5124 - val_acc: 0.7546\n",
            "Epoch 32/50\n",
            "144000/144000 - 55s - loss: 0.4324 - acc: 0.7944 - val_loss: 0.5144 - val_acc: 0.7539\n",
            "Epoch 33/50\n",
            "144000/144000 - 55s - loss: 0.4311 - acc: 0.7952 - val_loss: 0.5218 - val_acc: 0.7536\n",
            "Epoch 34/50\n",
            "144000/144000 - 56s - loss: 0.4312 - acc: 0.7941 - val_loss: 0.5156 - val_acc: 0.7541\n",
            "Epoch 35/50\n",
            "144000/144000 - 55s - loss: 0.4314 - acc: 0.7940 - val_loss: 0.5149 - val_acc: 0.7543\n",
            "Epoch 36/50\n",
            "144000/144000 - 55s - loss: 0.4306 - acc: 0.7943 - val_loss: 0.5176 - val_acc: 0.7477\n",
            "Epoch 37/50\n",
            "144000/144000 - 55s - loss: 0.4307 - acc: 0.7951 - val_loss: 0.5150 - val_acc: 0.7526\n",
            "Epoch 38/50\n",
            "144000/144000 - 55s - loss: 0.4293 - acc: 0.7967 - val_loss: 0.5179 - val_acc: 0.7553\n",
            "Epoch 39/50\n",
            "144000/144000 - 55s - loss: 0.4281 - acc: 0.7966 - val_loss: 0.5171 - val_acc: 0.7516\n",
            "Epoch 40/50\n",
            "144000/144000 - 56s - loss: 0.4294 - acc: 0.7952 - val_loss: 0.5210 - val_acc: 0.7493\n",
            "Epoch 41/50\n",
            "144000/144000 - 55s - loss: 0.4294 - acc: 0.7959 - val_loss: 0.5176 - val_acc: 0.7514\n",
            "Epoch 42/50\n",
            "144000/144000 - 55s - loss: 0.4279 - acc: 0.7965 - val_loss: 0.5158 - val_acc: 0.7531\n",
            "Epoch 43/50\n",
            "144000/144000 - 55s - loss: 0.4281 - acc: 0.7965 - val_loss: 0.5169 - val_acc: 0.7525\n",
            "Epoch 44/50\n",
            "144000/144000 - 55s - loss: 0.4270 - acc: 0.7974 - val_loss: 0.5177 - val_acc: 0.7531\n",
            "Epoch 45/50\n",
            "144000/144000 - 55s - loss: 0.4275 - acc: 0.7969 - val_loss: 0.5132 - val_acc: 0.7533\n",
            "Epoch 46/50\n",
            "144000/144000 - 56s - loss: 0.4281 - acc: 0.7968 - val_loss: 0.5165 - val_acc: 0.7524\n",
            "Epoch 47/50\n",
            "144000/144000 - 55s - loss: 0.4273 - acc: 0.7965 - val_loss: 0.5165 - val_acc: 0.7517\n",
            "Epoch 48/50\n",
            "144000/144000 - 55s - loss: 0.4269 - acc: 0.7964 - val_loss: 0.5227 - val_acc: 0.7495\n",
            "Epoch 49/50\n",
            "144000/144000 - 55s - loss: 0.4257 - acc: 0.7968 - val_loss: 0.5141 - val_acc: 0.7554\n",
            "Epoch 50/50\n",
            "144000/144000 - 56s - loss: 0.4263 - acc: 0.7979 - val_loss: 0.5182 - val_acc: 0.7521\n",
            "Training Complete\n"
          ],
          "name": "stdout"
        }
      ]
    },
    {
      "cell_type": "code",
      "metadata": {
        "id": "qxju4ItJKO8F",
        "colab_type": "code",
        "colab": {
          "base_uri": "https://localhost:8080/",
          "height": 607
        },
        "outputId": "283be8cf-a077-41c5-f68d-6c64a36f7d62"
      },
      "source": [
        "import matplotlib.image  as mpimg\n",
        "import matplotlib.pyplot as plt\n",
        "\n",
        "#-----------------------------------------------------------\n",
        "# Retrieve a list of list results on training and test data\n",
        "# sets for each training epoch\n",
        "#-----------------------------------------------------------\n",
        "acc=history.history['acc']\n",
        "val_acc=history.history['val_acc']\n",
        "loss=history.history['loss']\n",
        "val_loss=history.history['val_loss']\n",
        "\n",
        "epochs=range(len(acc)) # Get number of epochs\n",
        "\n",
        "#------------------------------------------------\n",
        "# Plot training and validation accuracy per epoch\n",
        "#------------------------------------------------\n",
        "plt.plot(epochs, acc, 'r')\n",
        "plt.plot(epochs, val_acc, 'b')\n",
        "plt.title('Training and validation accuracy')\n",
        "plt.xlabel(\"Epochs\")\n",
        "plt.ylabel(\"Accuracy\")\n",
        "plt.legend([\"Accuracy\", \"Validation Accuracy\"])\n",
        "\n",
        "plt.figure()\n",
        "\n",
        "#------------------------------------------------\n",
        "# Plot training and validation loss per epoch\n",
        "#------------------------------------------------\n",
        "plt.plot(epochs, loss, 'r')\n",
        "plt.plot(epochs, val_loss, 'b')\n",
        "plt.title('Training and validation loss')\n",
        "plt.xlabel(\"Epochs\")\n",
        "plt.ylabel(\"Loss\")\n",
        "plt.legend([\"Loss\", \"Validation Loss\"])\n",
        "\n",
        "plt.figure()\n",
        "\n",
        "\n",
        "# Expected Output\n",
        "# A chart where the validation loss does not increase sharply!"
      ],
      "execution_count": 54,
      "outputs": [
        {
          "output_type": "execute_result",
          "data": {
            "text/plain": [
              "<Figure size 432x288 with 0 Axes>"
            ]
          },
          "metadata": {
            "tags": []
          },
          "execution_count": 54
        },
        {
          "output_type": "display_data",
          "data": {
            "image/png": "[encoded data removed]",
            "text/plain": [
              "<Figure size 432x288 with 1 Axes>"
            ]
          },
          "metadata": {
            "tags": []
          }
        },
        {
          "output_type": "display_data",
          "data": {
            "image/png": "[encoded data removed]",
            "text/plain": [
              "<Figure size 432x288 with 1 Axes>"
            ]
          },
          "metadata": {
            "tags": []
          }
        },
        {
          "output_type": "display_data",
          "data": {
            "text/plain": [
              "<Figure size 432x288 with 0 Axes>"
            ]
          },
          "metadata": {
            "tags": []
          }
        }
      ]
    }
  ]
}