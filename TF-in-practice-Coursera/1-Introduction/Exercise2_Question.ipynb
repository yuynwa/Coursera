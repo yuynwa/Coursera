{
  "nbformat": 4,
  "nbformat_minor": 0,
  "metadata": {
    "colab": {
      "name": "Exercise2-Question.ipynb",
      "version": "0.3.2",
      "provenance": [],
      "collapsed_sections": []
    },
    "kernelspec": {
      "name": "python3",
      "display_name": "Python 3"
    }
  },
  "cells": [
    {
      "cell_type": "markdown",
      "metadata": {
        "id": "tOoyQ70H00_s",
        "colab_type": "text"
      },
      "source": [
        "## Exercise 2\n",
        "In the course you learned how to do classification using Fashion MNIST, a data set containing items of clothing. There's another, similar dataset called MNIST which has items of handwriting -- the digits 0 through 9.\n",
        "\n",
        "Write an MNIST classifier that trains to 99% accuracy or above, and does it without a fixed number of epochs -- i.e. you should stop training once you reach that level of accuracy.\n",
        "\n",
        "Some notes:\n",
        "1. It should succeed in less than 10 epochs, so it is okay to change epochs to 10, but nothing larger\n",
        "2. When it reaches 99% or greater it should print out the string \"Reached 99% accuracy so cancelling training!\"\n",
        "3. If you add any additional variables, make sure you use the same names as the ones used in the class\n",
        "\n",
        "I've started the code for you below -- how would you finish it? "
      ]
    },
    {
      "cell_type": "code",
      "metadata": {
        "id": "9rvXQGAA0ssC",
        "colab_type": "code",
        "colab": {
          "base_uri": "https://localhost:8080/",
          "height": 513
        },
        "outputId": "e05e5717-f1e7-4e79-9585-632f08ba17ea"
      },
      "source": [
        "import tensorflow as tf\n",
        "\n",
        "# YOUR CODE SHOULD START HERE\n",
        "class Callback(tf.keras.callbacks.Callback):\n",
        "    def on_epoch_end(self, epoch, logs={}):\n",
        "\n",
        "        if logs['acc'] > 0.99:\n",
        "            self.model.stop_training = True\n",
        "            print(\"Reached 99% accuracy so cancelling training!\")\n",
        "        print(epoch, logs)\n",
        "\n",
        "# YOUR CODE SHOULD END HERE\n",
        "\n",
        "\n",
        "mnist = tf.keras.datasets.mnist\n",
        "\n",
        "(x_train, y_train), (x_test, y_test) = mnist.load_data()\n",
        "# YOUR CODE SHOULD START HERE\n",
        "print(x_train.shape)\n",
        "x_train = x_train.reshape(x_train.shape[0], 28, 28, 1) / 255.0\n",
        "x_test = x_test.reshape(x_test.shape[0], 28, 28, 1) / 255.0\n",
        "\n",
        "# YOUR CODE SHOULD END HERE\n",
        "model = tf.keras.models.Sequential([\n",
        "    # YOUR CODE SHOULD START HERE\n",
        "    tf.keras.layers.Conv2D(32, (3,3), input_shape=(28, 28, 1), activation='relu'),\n",
        "    tf.keras.layers.MaxPooling2D(),\n",
        "    tf.keras.layers.Conv2D(64, (3,3), input_shape=(28, 28, 1), activation='relu'),\n",
        "    tf.keras.layers.MaxPooling2D(),\n",
        "    tf.keras.layers.Conv2D(64, (3,3), activation='relu'),\n",
        "    tf.keras.layers.MaxPooling2D(),\n",
        "    tf.keras.layers.Flatten(),\n",
        "    tf.keras.layers.Dense(128, activation='relu'),\n",
        "    tf.keras.layers.Dense(10, activation='softmax'),\n",
        "    # YOUR CODE SHOULD END HERE\n",
        "])\n",
        "\n",
        "model.compile(optimizer='adam',\n",
        "              loss='sparse_categorical_crossentropy',\n",
        "              metrics=['accuracy'])\n",
        "\n",
        "# YOUR CODE SHOULD START HERE\n",
        "model.fit(\n",
        "    x=x_train,\n",
        "    y=y_train,\n",
        "    epochs=10,\n",
        "    batch_size=32,\n",
        "    callbacks=[Callback()],\n",
        ")\n",
        "\n",
        "loss, acc = model.evaluate(\n",
        "    x=x_test,\n",
        "    y=y_test,\n",
        "\n",
        ")\n",
        "\n",
        "print(loss, acc)\n",
        "# YOUR CODE SHOULD END HERE"
      ],
      "execution_count": 1,
      "outputs": [
        {
          "output_type": "stream",
          "text": [
            "Downloading data from https://storage.googleapis.com/tensorflow/tf-keras-datasets/mnist.npz\n",
            "11493376/11490434 [==============================] - 0s 0us/step\n",
            "(60000, 28, 28)\n"
          ],
          "name": "stdout"
        },
        {
          "output_type": "stream",
          "text": [
            "WARNING: Logging before flag parsing goes to stderr.\n",
            "W0810 11:32:03.729851 140209615525760 deprecation.py:506] From /usr/local/lib/python3.6/dist-packages/tensorflow/python/ops/init_ops.py:1251: calling VarianceScaling.__init__ (from tensorflow.python.ops.init_ops) with dtype is deprecated and will be removed in a future version.\n",
            "Instructions for updating:\n",
            "Call initializer instance with the dtype argument instead of passing it to the constructor\n"
          ],
          "name": "stderr"
        },
        {
          "output_type": "stream",
          "text": [
            "Epoch 1/10\n",
            "59936/60000 [============================>.] - ETA: 0s - loss: 0.2078 - acc: 0.93520 {'loss': 0.20765648065296313, 'acc': 0.93528336}\n",
            "60000/60000 [==============================] - 61s 1ms/sample - loss: 0.2077 - acc: 0.9353\n",
            "Epoch 2/10\n",
            "59936/60000 [============================>.] - ETA: 0s - loss: 0.0733 - acc: 0.97771 {'loss': 0.07327211342843559, 'acc': 0.9776833}\n",
            "60000/60000 [==============================] - 61s 1ms/sample - loss: 0.0733 - acc: 0.9777\n",
            "Epoch 3/10\n",
            "59936/60000 [============================>.] - ETA: 0s - loss: 0.0518 - acc: 0.98382 {'loss': 0.05171992980459084, 'acc': 0.9838333}\n",
            "60000/60000 [==============================] - 61s 1ms/sample - loss: 0.0517 - acc: 0.9838\n",
            "Epoch 4/10\n",
            "59936/60000 [============================>.] - ETA: 0s - loss: 0.0406 - acc: 0.98723 {'loss': 0.04055701395646126, 'acc': 0.98721665}\n",
            "60000/60000 [==============================] - 60s 1ms/sample - loss: 0.0406 - acc: 0.9872\n",
            "Epoch 5/10\n",
            "59936/60000 [============================>.] - ETA: 0s - loss: 0.0318 - acc: 0.98974 {'loss': 0.03174586600981808, 'acc': 0.98975}\n",
            "60000/60000 [==============================] - 60s 992us/sample - loss: 0.0317 - acc: 0.9898\n",
            "Epoch 6/10\n",
            "59936/60000 [============================>.] - ETA: 0s - loss: 0.0256 - acc: 0.9918Reached 99% accuracy so cancelling training!\n",
            "5 {'loss': 0.025623050612110333, 'acc': 0.99175}\n",
            "60000/60000 [==============================] - 60s 1000us/sample - loss: 0.0256 - acc: 0.9918\n",
            "10000/10000 [==============================] - 3s 336us/sample - loss: 0.0625 - acc: 0.9847\n",
            "0.062458506229498015 0.9847\n"
          ],
          "name": "stdout"
        }
      ]
    }
  ]
}