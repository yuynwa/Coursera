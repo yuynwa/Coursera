{
 "cells": [
  {
   "cell_type": "code",
   "execution_count": 1,
   "metadata": {
    "colab_type": "code",
    "id": "1xJZ5glPPCRz",
    "outputId": "b591dd53-7e1b-4fe5-841b-80c3c9f13c75",
    "colab": {
     "base_uri": "https://localhost:8080/",
     "height": 309.0
    }
   },
   "outputs": [
    {
     "name": "stdout",
     "output_type": "stream",
     "text": [
      "--2019-08-17 15:33:41--  https://storage.googleapis.com/mledu-datasets/inception_v3_weights_tf_dim_ordering_tf_kernels_notop.h5\n",
      "Resolving storage.googleapis.com (storage.googleapis.com)... 172.217.214.128, 2607:f8b0:4001:c05::80\n",
      "Connecting to storage.googleapis.com (storage.googleapis.com)|172.217.214.128|:443... connected.\n",
      "HTTP request sent, awaiting response... 200 OK\n",
      "Length: 87910968 (84M) [application/x-hdf]\n",
      "Saving to: ‘/tmp/inception_v3_weights_tf_dim_ordering_tf_kernels_notop.h5’\n",
      "\n",
      "\r          /tmp/ince   0%[                    ]       0  --.-KB/s               \r         /tmp/incep  56%[==========>         ]  47.31M   236MB/s               \r/tmp/inception_v3_w 100%[===================>]  83.84M   263MB/s    in 0.3s    \n",
      "\n",
      "2019-08-17 15:33:42 (263 MB/s) - ‘/tmp/inception_v3_weights_tf_dim_ordering_tf_kernels_notop.h5’ saved [87910968/87910968]\n",
      "\n"
     ]
    },
    {
     "name": "stderr",
     "output_type": "stream",
     "text": [
      "WARNING: Logging before flag parsing goes to stderr.\n",
      "W0817 15:33:51.928746 140668204619648 deprecation.py:506] From /usr/local/lib/python2.7/dist-packages/tensorflow/python/ops/init_ops.py:1251: calling __init__ (from tensorflow.python.ops.init_ops) with dtype is deprecated and will be removed in a future version.\n",
      "Instructions for updating:\n",
      "Call initializer instance with the dtype argument instead of passing it to the constructor\n"
     ]
    },
    {
     "name": "stdout",
     "output_type": "stream",
     "text": [
      "('last layer output shape: ', (None, 7, 7, 768))\n"
     ]
    }
   ],
   "source": [
    "import os\n",
    "\n",
    "from tensorflow.keras import layers\n",
    "from tensorflow.keras import Model\n",
    "!wget --no-check-certificate \\\n",
    "    https://storage.googleapis.com/mledu-datasets/inception_v3_weights_tf_dim_ordering_tf_kernels_notop.h5 \\\n",
    "    -O /tmp/inception_v3_weights_tf_dim_ordering_tf_kernels_notop.h5\n",
    "  \n",
    "from tensorflow.keras.applications.inception_v3 import InceptionV3\n",
    "\n",
    "local_weights_file = '/tmp/inception_v3_weights_tf_dim_ordering_tf_kernels_notop.h5'\n",
    "\n",
    "pre_trained_model = InceptionV3(input_shape = (150, 150, 3), \n",
    "                                include_top = False, \n",
    "                                weights = None)\n",
    "\n",
    "pre_trained_model.load_weights(local_weights_file)\n",
    "\n",
    "for layer in pre_trained_model.layers:\n",
    "  layer.trainable = False\n",
    "  \n",
    "# pre_trained_model.summary()\n",
    "\n",
    "last_layer = pre_trained_model.get_layer('mixed7')\n",
    "print('last layer output shape: ', last_layer.output_shape)\n",
    "last_output = last_layer.output"
   ]
  },
  {
   "cell_type": "code",
   "execution_count": 0,
   "metadata": {
    "colab_type": "code",
    "id": "BMXb913pbvFg",
    "colab": {}
   },
   "outputs": [],
   "source": [
    "from tensorflow.keras.optimizers import RMSprop\n",
    "\n",
    "# Flatten the output layer to 1 dimension\n",
    "x = layers.Flatten()(last_output)\n",
    "# Add a fully connected layer with 1,024 hidden units and ReLU activation\n",
    "x = layers.Dense(1024, activation='relu')(x)\n",
    "# Add a dropout rate of 0.2\n",
    "x = layers.Dropout(0.2)(x)                  \n",
    "# Add a final sigmoid layer for classification\n",
    "x = layers.Dense  (1, activation='sigmoid')(x)           \n",
    "\n",
    "model = Model( pre_trained_model.input, x) \n",
    "\n",
    "model.compile(optimizer = RMSprop(lr=0.0001), \n",
    "              loss = 'binary_crossentropy', \n",
    "              metrics = ['acc'])\n"
   ]
  },
  {
   "cell_type": "code",
   "execution_count": 4,
   "metadata": {
    "colab_type": "code",
    "id": "O4s8HckqGlnb",
    "outputId": "41cb8f72-b0c7-41c8-e39d-d05edfd05f94",
    "colab": {
     "base_uri": "https://localhost:8080/",
     "height": 238.0
    }
   },
   "outputs": [
    {
     "name": "stdout",
     "output_type": "stream",
     "text": [
      "--2019-08-17 15:41:06--  https://storage.googleapis.com/mledu-datasets/cats_and_dogs_filtered.zip\n",
      "Resolving storage.googleapis.com (storage.googleapis.com)... 74.125.70.128, 2607:f8b0:4001:c07::80\n",
      "Connecting to storage.googleapis.com (storage.googleapis.com)|74.125.70.128|:443... connected.\n",
      "HTTP request sent, awaiting response... 200 OK\n",
      "Length: 68606236 (65M) [application/zip]\n",
      "Saving to: ‘/tmp/cats_and_dogs_filtered.zip’\n",
      "\n",
      "\r          /tmp/cats   0%[                    ]       0  --.-KB/s               \r         /tmp/cats_  60%[===========>        ]  39.79M   199MB/s               \r/tmp/cats_and_dogs_ 100%[===================>]  65.43M   226MB/s    in 0.3s    \n",
      "\n",
      "2019-08-17 15:41:06 (226 MB/s) - ‘/tmp/cats_and_dogs_filtered.zip’ saved [68606236/68606236]\n",
      "\n",
      "Found 2000 images belonging to 2 classes.\n",
      "Found 1000 images belonging to 2 classes.\n"
     ]
    }
   ],
   "source": [
    "!wget --no-check-certificate \\\n",
    "        https://storage.googleapis.com/mledu-datasets/cats_and_dogs_filtered.zip \\\n",
    "       -O /tmp/cats_and_dogs_filtered.zip\n",
    "\n",
    "from tensorflow.keras.preprocessing.image import ImageDataGenerator\n",
    "\n",
    "import os\n",
    "import zipfile\n",
    "\n",
    "local_zip = '//tmp/cats_and_dogs_filtered.zip'\n",
    "\n",
    "zip_ref = zipfile.ZipFile(local_zip, 'r')\n",
    "\n",
    "zip_ref.extractall('/tmp')\n",
    "zip_ref.close()\n",
    "\n",
    "# Define our example directories and files\n",
    "base_dir = '/tmp/cats_and_dogs_filtered'\n",
    "\n",
    "train_dir = os.path.join( base_dir, 'train')\n",
    "validation_dir = os.path.join( base_dir, 'validation')\n",
    "\n",
    "\n",
    "train_cats_dir = os.path.join(train_dir, 'cats') # Directory with our training cat pictures\n",
    "train_dogs_dir = os.path.join(train_dir, 'dogs') # Directory with our training dog pictures\n",
    "validation_cats_dir = os.path.join(validation_dir, 'cats') # Directory with our validation cat pictures\n",
    "validation_dogs_dir = os.path.join(validation_dir, 'dogs')# Directory with our validation dog pictures\n",
    "\n",
    "train_cat_fnames = os.listdir(train_cats_dir)\n",
    "train_dog_fnames = os.listdir(train_dogs_dir)\n",
    "\n",
    "# Add our data-augmentation parameters to ImageDataGenerator\n",
    "train_datagen = ImageDataGenerator(rescale = 1./255.,\n",
    "                                   rotation_range = 40,\n",
    "                                   width_shift_range = 0.2,\n",
    "                                   height_shift_range = 0.2,\n",
    "                                   shear_range = 0.2,\n",
    "                                   zoom_range = 0.2,\n",
    "                                   horizontal_flip = True)\n",
    "\n",
    "# Note that the validation data should not be augmented!\n",
    "test_datagen = ImageDataGenerator( rescale = 1.0/255. )\n",
    "\n",
    "# Flow training images in batches of 20 using train_datagen generator\n",
    "train_generator = train_datagen.flow_from_directory(train_dir,\n",
    "                                                    batch_size = 20,\n",
    "                                                    class_mode = 'binary', \n",
    "                                                    target_size = (150, 150))     \n",
    "\n",
    "# Flow validation images in batches of 20 using test_datagen generator\n",
    "validation_generator =  test_datagen.flow_from_directory( validation_dir,\n",
    "                                                          batch_size  = 20,\n",
    "                                                          class_mode  = 'binary', \n",
    "                                                          target_size = (150, 150))"
   ]
  },
  {
   "cell_type": "code",
   "execution_count": 5,
   "metadata": {
    "colab_type": "code",
    "id": "Blhq2MAUeyGA",
    "outputId": "b8d0bbee-8898-45c7-d4ed-914639c4914a",
    "colab": {
     "base_uri": "https://localhost:8080/",
     "height": 697.0
    }
   },
   "outputs": [
    {
     "name": "stdout",
     "output_type": "stream",
     "text": [
      "Epoch 1/20\n",
      "100/100 - 25s - loss: 0.4630 - acc: 0.7900 - val_loss: 0.2018 - val_acc: 0.9330\n",
      "Epoch 2/20\n",
      "100/100 - 19s - loss: 0.4007 - acc: 0.8210 - val_loss: 0.1507 - val_acc: 0.9530\n",
      "Epoch 3/20\n",
      "100/100 - 19s - loss: 0.3464 - acc: 0.8515 - val_loss: 0.3740 - val_acc: 0.9270\n",
      "Epoch 4/20\n",
      "100/100 - 18s - loss: 0.3209 - acc: 0.8685 - val_loss: 0.2613 - val_acc: 0.9500\n",
      "Epoch 5/20\n",
      "100/100 - 18s - loss: 0.3218 - acc: 0.8730 - val_loss: 0.3311 - val_acc: 0.9440\n",
      "Epoch 6/20\n",
      "100/100 - 18s - loss: 0.3119 - acc: 0.8710 - val_loss: 0.3136 - val_acc: 0.9530\n",
      "Epoch 7/20\n",
      "100/100 - 18s - loss: 0.2847 - acc: 0.8795 - val_loss: 0.4173 - val_acc: 0.9430\n",
      "Epoch 8/20\n",
      "100/100 - 18s - loss: 0.3032 - acc: 0.8825 - val_loss: 0.3518 - val_acc: 0.9560\n",
      "Epoch 9/20\n",
      "100/100 - 19s - loss: 0.3005 - acc: 0.8810 - val_loss: 0.4911 - val_acc: 0.9340\n",
      "Epoch 10/20\n",
      "100/100 - 18s - loss: 0.2806 - acc: 0.8945 - val_loss: 0.4807 - val_acc: 0.9420\n",
      "Epoch 11/20\n",
      "100/100 - 19s - loss: 0.2794 - acc: 0.8745 - val_loss: 0.4979 - val_acc: 0.9440\n",
      "Epoch 12/20\n",
      "100/100 - 19s - loss: 0.2585 - acc: 0.9050 - val_loss: 0.3920 - val_acc: 0.9550\n",
      "Epoch 13/20\n",
      "100/100 - 19s - loss: 0.2640 - acc: 0.8935 - val_loss: 0.4285 - val_acc: 0.9500\n",
      "Epoch 14/20\n",
      "100/100 - 18s - loss: 0.2788 - acc: 0.8915 - val_loss: 0.3569 - val_acc: 0.9580\n",
      "Epoch 15/20\n",
      "100/100 - 19s - loss: 0.2833 - acc: 0.8875 - val_loss: 0.3438 - val_acc: 0.9600\n",
      "Epoch 16/20\n",
      "100/100 - 19s - loss: 0.2613 - acc: 0.8990 - val_loss: 0.4422 - val_acc: 0.9540\n",
      "Epoch 17/20\n",
      "100/100 - 19s - loss: 0.2531 - acc: 0.8995 - val_loss: 0.4642 - val_acc: 0.9480\n",
      "Epoch 18/20\n",
      "100/100 - 19s - loss: 0.2434 - acc: 0.9085 - val_loss: 0.3697 - val_acc: 0.9580\n",
      "Epoch 19/20\n",
      "100/100 - 18s - loss: 0.2751 - acc: 0.8960 - val_loss: 0.4809 - val_acc: 0.9470\n",
      "Epoch 20/20\n",
      "100/100 - 18s - loss: 0.2440 - acc: 0.8995 - val_loss: 0.4558 - val_acc: 0.9530\n"
     ]
    }
   ],
   "source": [
    "history = model.fit_generator(\n",
    "            train_generator,\n",
    "            validation_data = validation_generator,\n",
    "            steps_per_epoch = 100,\n",
    "            epochs = 20,\n",
    "            validation_steps = 50,\n",
    "            verbose = 2)"
   ]
  },
  {
   "cell_type": "code",
   "execution_count": 6,
   "metadata": {
    "id": "C2Fp6Se9rKuL",
    "colab_type": "code",
    "outputId": "2eed21c1-c45a-4ef3-9829-a0805d9eac0f",
    "colab": {
     "base_uri": "https://localhost:8080/",
     "height": 298.0
    }
   },
   "outputs": [
    {
     "data": {
      "image/png": "[encoded data removed]",
      "text/plain": [
       "<Figure size 432x288 with 1 Axes>"
      ]
     },
     "metadata": {
      "tags": []
     },
     "output_type": "display_data"
    },
    {
     "data": {
      "text/plain": [
       "<Figure size 432x288 with 0 Axes>"
      ]
     },
     "metadata": {
      "tags": []
     },
     "output_type": "display_data"
    }
   ],
   "source": [
    "import matplotlib.pyplot as plt\n",
    "acc = history.history['acc']\n",
    "val_acc = history.history['val_acc']\n",
    "loss = history.history['loss']\n",
    "val_loss = history.history['val_loss']\n",
    "\n",
    "epochs = range(len(acc))\n",
    "\n",
    "plt.plot(epochs, acc, 'r', label='Training accuracy')\n",
    "plt.plot(epochs, val_acc, 'b', label='Validation accuracy')\n",
    "plt.title('Training and validation accuracy')\n",
    "plt.legend(loc=0)\n",
    "plt.figure()\n",
    "\n",
    "\n",
    "plt.show()"
   ]
  }
 ],
 "metadata": {
  "colab": {
   "name": "Transfer Learning.ipynb",
   "version": "0.3.2",
   "provenance": [],
   "collapsed_sections": []
  },
  "kernelspec": {
   "display_name": "Python 2",
   "name": "python2"
  },
  "accelerator": "GPU"
 },
 "nbformat": 4,
 "nbformat_minor": 0
}
